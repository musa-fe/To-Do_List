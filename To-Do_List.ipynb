{
  "cells": [
    {
      "cell_type": "markdown",
      "source": [
        "## TO_DO LIST"
      ],
      "metadata": {
        "id": "ngqHuGsyG_tr"
      },
      "id": "ngqHuGsyG_tr"
    },
    {
      "cell_type": "code",
      "source": [
        "DOSYA_ADI = \"gorevler.txt\"\n",
        "gorevler = []\n",
        "\n",
        "def gorevleri_yukle():\n",
        "    global gorevler\n",
        "    try:\n",
        "        with open(DOSYA_ADI, \"r\", encoding=\"utf-8\") as f:\n",
        "            gorevler = [satir.strip() for satir in f.readlines()]\n",
        "        print(\"Görevler başarıyla yüklendi.\\n\")\n",
        "    except FileNotFoundError:\n",
        "        gorevler = []\n",
        "        print(\"Görev dosyası bulunamadı. Yeni bir liste oluşturuldu.\\n\")\n",
        "\n",
        "def gorevleri_kaydet():\n",
        "    try:\n",
        "        with open(DOSYA_ADI, \"w\", encoding=\"utf-8\") as f:\n",
        "            for g in gorevler:\n",
        "                f.write(g + \"\\n\")\n",
        "        print(\"Görevler başarıyla kaydedildi.\\n\")\n",
        "    except Exception as e:\n",
        "        print(\"Hata: Görevler kaydedilemedi ->\", e)\n",
        "\n",
        "def ana_menu():\n",
        "    print(\"--- TO-DO LIST UYGULAMASI ---\")\n",
        "    print(\"1. Görevleri Listele\")\n",
        "    print(\"2. Yeni Görev Ekle\")\n",
        "    print(\"3. Görev Düzenle\")\n",
        "    print(\"4. Görev Sil\")\n",
        "    print(\"5. Çıkış\")\n"
      ],
      "metadata": {
        "id": "2mG6FBxqD-wz"
      },
      "id": "2mG6FBxqD-wz",
      "execution_count": 5,
      "outputs": []
    },
    {
      "cell_type": "markdown",
      "source": [
        "📂 Hücre Açıklaması\n",
        "Bu hücrede programın temel yapısı oluşturuldu:\n",
        "\n",
        "DOSYA_ADI ile görevlerin kaydedileceği dosya adı belirlendi.\n",
        "\n",
        "gorevler adında boş bir liste tanımlandı (görevler bellekte burada tutulacak).\n",
        "\n",
        "gorevleri_yukle() fonksiyonu, dosyadan görevleri okuyarak listeye yükler. Dosya yoksa yeni bir liste başlatır.\n",
        "\n",
        "gorevleri_kaydet() fonksiyonu, listedeki görevleri dosyaya kaydeder.\n",
        "\n",
        "ana_menu() fonksiyonu, kullanıcıya gösterilecek olan ana menüyü konsolda yazdırır."
      ],
      "metadata": {
        "id": "MJKtlXz9GzvP"
      },
      "id": "MJKtlXz9GzvP"
    },
    {
      "cell_type": "code",
      "source": [
        "def gorev_ekle():\n",
        "    yeni_gorev = input(\"Yeni görev: \").strip()\n",
        "    if yeni_gorev == \"\":\n",
        "        print(\"❌ Boş görev eklenemez!\\n\")\n",
        "        return\n",
        "    gorevler.append(yeni_gorev)\n",
        "    gorevleri_kaydet()\n",
        "    print(f\"✅ '{yeni_gorev}' görevi eklendi.\\n\")\n"
      ],
      "metadata": {
        "id": "ThPeNrliC9tP"
      },
      "id": "ThPeNrliC9tP",
      "execution_count": 6,
      "outputs": []
    },
    {
      "cell_type": "markdown",
      "source": [
        "📂 Hücre Açıklaması\n",
        "Bu hücrede görev ekleme işlemi yapıldı:\n",
        "\n",
        "Kullanıcıdan yeni görev metni alınır.\n",
        "\n",
        "Eğer boş bir giriş yapılırsa uyarı verilir ve görev eklenmez.\n",
        "\n",
        "Geçerli bir görev girildiyse gorevler listesine eklenir.\n",
        "\n",
        "Ardından gorevleri_kaydet() çağrılarak görev dosyaya kaydedilir.\n",
        "\n",
        "Başarılı ekleme sonrası ekrana onay mesajı yazdırılır."
      ],
      "metadata": {
        "id": "2QRq9sloG91J"
      },
      "id": "2QRq9sloG91J"
    },
    {
      "cell_type": "code",
      "source": [
        "def gorevleri_listele():\n",
        "    if not gorevler:  # liste boşsa\n",
        "        print(\"📭 Henüz görev bulunmamaktadır.\\n\")\n",
        "        return\n",
        "\n",
        "    print(\"\\n--- GÖREV LİSTESİ ---\")\n",
        "    for i, g in enumerate(gorevler, start=1):\n",
        "        print(f\"{i}. {g}\")\n",
        "    print(\"----------------------\\n\")\n"
      ],
      "metadata": {
        "id": "jeH0sBU2FGMi"
      },
      "id": "jeH0sBU2FGMi",
      "execution_count": 7,
      "outputs": []
    },
    {
      "cell_type": "code",
      "source": [
        "def gorev_duzenle():\n",
        "    gorevleri_listele()\n",
        "    if not gorevler:\n",
        "        return\n",
        "\n",
        "    try:\n",
        "        numara = int(input(\"Düzenlemek istediğiniz görevin numarası: \"))\n",
        "        if 1 <= numara <= len(gorevler):\n",
        "            eski_gorev = gorevler[numara - 1]\n",
        "            yeni_gorev = input(f\"Yeni görev metni ({eski_gorev}): \").strip()\n",
        "            if yeni_gorev == \"\":\n",
        "                print(\"❌ Boş görev eklenemez!\\n\")\n",
        "                return\n",
        "            gorevler[numara - 1] = yeni_gorev\n",
        "            gorevleri_kaydet()\n",
        "            print(\"✅ Görev başarıyla güncellendi.\\n\")\n",
        "        else:\n",
        "            print(\"❌ Geçersiz görev numarası!\\n\")\n",
        "    except ValueError:\n",
        "        print(\"❌ Lütfen bir sayı girin!\\n\")\n"
      ],
      "metadata": {
        "id": "iRCT_z8aFwkk"
      },
      "id": "iRCT_z8aFwkk",
      "execution_count": 8,
      "outputs": []
    },
    {
      "cell_type": "markdown",
      "source": [
        "📂 Hücre Açıklaması\n",
        "Bu hücrede görev düzenleme işlemi yapıldı:\n",
        "\n",
        "Önce mevcut görevler listelenir, liste boşsa işlem sonlandırılır.\n",
        "\n",
        "Kullanıcıdan düzenlenecek görev numarası alınır.\n",
        "\n",
        "Geçerli numara girildiyse eski görev gösterilerek yeni metin istenir.\n",
        "\n",
        "Yeni görev boş bırakılırsa uyarı verilir ve işlem yapılmaz.\n",
        "\n",
        "Geçerli bir metin girildiyse görev listede güncellenir.\n",
        "\n",
        "gorevleri_kaydet() ile değişiklikler dosyaya kaydedilir.\n",
        "\n",
        "Başarılı güncelleme sonrası ekrana onay mesajı yazdırılır.\n",
        "\n",
        "Hatalı numara ya da sayı dışı girişlerde kullanıcı uyarılır."
      ],
      "metadata": {
        "id": "HPR04Ss2ODhq"
      },
      "id": "HPR04Ss2ODhq"
    },
    {
      "cell_type": "code",
      "source": [
        "def gorev_sil():\n",
        "    gorevleri_listele()\n",
        "    if not gorevler:\n",
        "        return\n",
        "\n",
        "    try:\n",
        "        numara = int(input(\"Silmek istediğiniz görevin numarası: \"))\n",
        "        if 1 <= numara <= len(gorevler):\n",
        "            silinen = gorevler.pop(numara - 1)\n",
        "            gorevleri_kaydet()\n",
        "            print(f\"🗑️ '{silinen}' görevi silindi.\\n\")\n",
        "        else:\n",
        "            print(\"❌ Geçersiz görev numarası!\\n\")\n",
        "    except ValueError:\n",
        "        print(\"❌ Lütfen bir sayı girin!\\n\")\n"
      ],
      "metadata": {
        "id": "ZUP23iY7Ft-5"
      },
      "id": "ZUP23iY7Ft-5",
      "execution_count": 9,
      "outputs": []
    },
    {
      "cell_type": "markdown",
      "source": [
        "📂 Hücre Açıklaması\n",
        "Bu hücrede görev silme işlemi yapıldı:\n",
        "\n",
        "Önce mevcut görevler listelenir, liste boşsa işlem sonlandırılır.\n",
        "\n",
        "Kullanıcıdan silinecek görev numarası alınır.\n",
        "\n",
        "Numara geçerli değilse uyarı verilir.\n",
        "\n",
        "Geçerli numara girildiyse görev listeden çıkarılır (pop).\n",
        "\n",
        "gorevleri_kaydet() ile güncel liste dosyaya kaydedilir.\n",
        "\n",
        "Başarılı silme sonrası ekrana onay mesajı yazdırılır.\n",
        "\n",
        "Sayı dışı giriş yapılırsa kullanıcıya uyarı verilir."
      ],
      "metadata": {
        "id": "YJUQjjh_OIRR"
      },
      "id": "YJUQjjh_OIRR"
    },
    {
      "cell_type": "code",
      "source": [
        "def main():\n",
        "    gorevleri_yukle()\n",
        "    while True:\n",
        "        ana_menu()\n",
        "        secim = input(\"Seçiminiz (1-5): \")\n",
        "\n",
        "        if secim == \"1\":\n",
        "            gorevleri_listele()\n",
        "        elif secim == \"2\":\n",
        "            gorev_ekle()\n",
        "        elif secim == \"3\":\n",
        "            gorev_duzenle()\n",
        "        elif secim == \"4\":\n",
        "            gorev_sil()\n",
        "        elif secim == \"5\":\n",
        "            print(\"Programdan çıkılıyor...\")\n",
        "            break\n",
        "        else:\n",
        "            print(\"❌ Geçersiz seçim! Lütfen 1-5 arasında bir sayı girin.\\n\")\n",
        "\n",
        "main()"
      ],
      "metadata": {
        "id": "gI_d-1JxC961",
        "outputId": "aa5643ee-601e-43a7-ca6c-2a68ee7a2346",
        "colab": {
          "base_uri": "https://localhost:8080/"
        }
      },
      "id": "gI_d-1JxC961",
      "execution_count": 10,
      "outputs": [
        {
          "output_type": "stream",
          "name": "stdout",
          "text": [
            "Görevler başarıyla yüklendi.\n",
            "\n",
            "--- TO-DO LIST UYGULAMASI ---\n",
            "1. Görevleri Listele\n",
            "2. Yeni Görev Ekle\n",
            "3. Görev Düzenle\n",
            "4. Görev Sil\n",
            "5. Çıkış\n",
            "Seçiminiz (1-5): 1\n",
            "\n",
            "--- GÖREV LİSTESİ ---\n",
            "1. Ders çalış\n",
            "----------------------\n",
            "\n",
            "--- TO-DO LIST UYGULAMASI ---\n",
            "1. Görevleri Listele\n",
            "2. Yeni Görev Ekle\n",
            "3. Görev Düzenle\n",
            "4. Görev Sil\n",
            "5. Çıkış\n",
            "Seçiminiz (1-5): 2\n",
            "Yeni görev: Kursa git\n",
            "Görevler başarıyla kaydedildi.\n",
            "\n",
            "✅ 'Kursa git' görevi eklendi.\n",
            "\n",
            "--- TO-DO LIST UYGULAMASI ---\n",
            "1. Görevleri Listele\n",
            "2. Yeni Görev Ekle\n",
            "3. Görev Düzenle\n",
            "4. Görev Sil\n",
            "5. Çıkış\n",
            "Seçiminiz (1-5): 3\n",
            "\n",
            "--- GÖREV LİSTESİ ---\n",
            "1. Ders çalış\n",
            "2. Kursa git\n",
            "----------------------\n",
            "\n",
            "Düzenlemek istediğiniz görevin numarası: 1\n",
            "Yeni görev metni (Ders çalış): İlaçlarını iç\n",
            "Görevler başarıyla kaydedildi.\n",
            "\n",
            "✅ Görev başarıyla güncellendi.\n",
            "\n",
            "--- TO-DO LIST UYGULAMASI ---\n",
            "1. Görevleri Listele\n",
            "2. Yeni Görev Ekle\n",
            "3. Görev Düzenle\n",
            "4. Görev Sil\n",
            "5. Çıkış\n",
            "Seçiminiz (1-5): 1\n",
            "\n",
            "--- GÖREV LİSTESİ ---\n",
            "1. İlaçlarını iç\n",
            "2. Kursa git\n",
            "----------------------\n",
            "\n",
            "--- TO-DO LIST UYGULAMASI ---\n",
            "1. Görevleri Listele\n",
            "2. Yeni Görev Ekle\n",
            "3. Görev Düzenle\n",
            "4. Görev Sil\n",
            "5. Çıkış\n",
            "Seçiminiz (1-5): 4\n",
            "\n",
            "--- GÖREV LİSTESİ ---\n",
            "1. İlaçlarını iç\n",
            "2. Kursa git\n",
            "----------------------\n",
            "\n",
            "Silmek istediğiniz görevin numarası: 2\n",
            "Görevler başarıyla kaydedildi.\n",
            "\n",
            "🗑️ 'Kursa git' görevi silindi.\n",
            "\n",
            "--- TO-DO LIST UYGULAMASI ---\n",
            "1. Görevleri Listele\n",
            "2. Yeni Görev Ekle\n",
            "3. Görev Düzenle\n",
            "4. Görev Sil\n",
            "5. Çıkış\n",
            "Seçiminiz (1-5): 1\n",
            "\n",
            "--- GÖREV LİSTESİ ---\n",
            "1. İlaçlarını iç\n",
            "----------------------\n",
            "\n",
            "--- TO-DO LIST UYGULAMASI ---\n",
            "1. Görevleri Listele\n",
            "2. Yeni Görev Ekle\n",
            "3. Görev Düzenle\n",
            "4. Görev Sil\n",
            "5. Çıkış\n",
            "Seçiminiz (1-5): 5\n",
            "Programdan çıkılıyor...\n"
          ]
        }
      ]
    },
    {
      "cell_type": "markdown",
      "source": [
        "📂 Hücre Açıklaması\n",
        "Bu hücrede programın ana akışı yazıldı:\n",
        "\n",
        "gorevleri_yukle() ile başlangıçta görevler dosyadan belleğe alınır.\n",
        "\n",
        "Sonsuz döngü içinde kullanıcıya ana menü gösterilir.\n",
        "\n",
        "Kullanıcıdan seçim alınır (1-5).\n",
        "\n",
        "1 → Görevleri listeleme fonksiyonu çalışır.\n",
        "\n",
        "2 → Yeni görev ekleme fonksiyonu çağrılır.\n",
        "\n",
        "3 → Görev düzenleme fonksiyonu çalışır.\n",
        "\n",
        "4 → Görev silme fonksiyonu çağrılır.\n",
        "\n",
        "5 → Çıkış mesajı gösterilir ve döngü kırılır.\n",
        "\n",
        "Geçersiz seçim yapılırsa kullanıcı uyarılır."
      ],
      "metadata": {
        "id": "B8caDaksOdrT"
      },
      "id": "B8caDaksOdrT"
    }
  ],
  "metadata": {
    "kernelspec": {
      "display_name": "base",
      "language": "python",
      "name": "python3"
    },
    "language_info": {
      "codemirror_mode": {
        "name": "ipython",
        "version": 3
      },
      "file_extension": ".py",
      "mimetype": "text/x-python",
      "name": "python",
      "nbconvert_exporter": "python",
      "pygments_lexer": "ipython3",
      "version": "3.12.4"
    },
    "colab": {
      "provenance": []
    }
  },
  "nbformat": 4,
  "nbformat_minor": 5
}