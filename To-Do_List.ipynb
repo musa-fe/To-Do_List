{
  "cells": [
    {
      "cell_type": "code",
      "source": [
        "DOSYA_ADI = \"gorevler.txt\"\n",
        "gorevler = []\n",
        "\n",
        "def gorevleri_yukle():\n",
        "    global gorevler\n",
        "    try:\n",
        "        with open(DOSYA_ADI, \"r\", encoding=\"utf-8\") as f:\n",
        "            gorevler = [satir.strip() for satir in f.readlines()]\n",
        "        print(\"Görevler başarıyla yüklendi.\\n\")\n",
        "    except FileNotFoundError:\n",
        "        gorevler = []\n",
        "        print(\"Görev dosyası bulunamadı. Yeni bir liste oluşturuldu.\\n\")\n",
        "\n",
        "def gorevleri_kaydet():\n",
        "    try:\n",
        "        with open(DOSYA_ADI, \"w\", encoding=\"utf-8\") as f:\n",
        "            for g in gorevler:\n",
        "                f.write(g + \"\\n\")\n",
        "        print(\"Görevler başarıyla kaydedildi.\\n\")\n",
        "    except Exception as e:\n",
        "        print(\"Hata: Görevler kaydedilemedi ->\", e)\n",
        "\n",
        "def ana_menu():\n",
        "    print(\"--- TO-DO LIST UYGULAMASI ---\")\n",
        "    print(\"1. Görevleri Listele\")\n",
        "    print(\"2. Yeni Görev Ekle\")\n",
        "    print(\"3. Görev Düzenle\")\n",
        "    print(\"4. Görev Sil\")\n",
        "    print(\"5. Çıkış\")\n"
      ],
      "metadata": {
        "id": "2mG6FBxqD-wz"
      },
      "id": "2mG6FBxqD-wz",
      "execution_count": 5,
      "outputs": []
    },
    {
      "cell_type": "code",
      "source": [
        "def gorev_ekle():\n",
        "    yeni_gorev = input(\"Yeni görev: \").strip()\n",
        "    if yeni_gorev == \"\":\n",
        "        print(\"❌ Boş görev eklenemez!\\n\")\n",
        "        return\n",
        "    gorevler.append(yeni_gorev)\n",
        "    gorevleri_kaydet()\n",
        "    print(f\"✅ '{yeni_gorev}' görevi eklendi.\\n\")\n"
      ],
      "metadata": {
        "id": "ThPeNrliC9tP"
      },
      "id": "ThPeNrliC9tP",
      "execution_count": 6,
      "outputs": []
    },
    {
      "cell_type": "code",
      "source": [
        "def main():\n",
        "    gorevleri_yukle()\n",
        "    while True:\n",
        "        ana_menu()\n",
        "        secim = input(\"Seçiminiz (1-5): \")\n",
        "\n",
        "        if secim == \"1\":\n",
        "            print(\"➡ Görev Listeleme buraya gelecek.\\n\")\n",
        "        elif secim == \"2\":\n",
        "            gorev_ekle()\n",
        "        elif secim == \"3\":\n",
        "            print(\"➡ Görev Düzenleme buraya gelecek.\\n\")\n",
        "        elif secim == \"4\":\n",
        "            print(\"➡ Görev Silme buraya gelecek.\\n\")\n",
        "        elif secim == \"5\":\n",
        "            print(\"Programdan çıkılıyor...\")\n",
        "            break\n",
        "        else:\n",
        "            print(\"❌ Geçersiz seçim! Lütfen 1-5 arasında bir sayı girin.\\n\")\n",
        "\n",
        "main()\n"
      ],
      "metadata": {
        "id": "gI_d-1JxC961",
        "outputId": "ee8c4c7b-5c6e-4eda-9445-6ac62f0d5cea",
        "colab": {
          "base_uri": "https://localhost:8080/"
        }
      },
      "id": "gI_d-1JxC961",
      "execution_count": 7,
      "outputs": [
        {
          "output_type": "stream",
          "name": "stdout",
          "text": [
            "Görev dosyası bulunamadı. Yeni bir liste oluşturuldu.\n",
            "\n",
            "--- TO-DO LIST UYGULAMASI ---\n",
            "1. Görevleri Listele\n",
            "2. Yeni Görev Ekle\n",
            "3. Görev Düzenle\n",
            "4. Görev Sil\n",
            "5. Çıkış\n",
            "Seçiminiz (1-5): 2\n",
            "Yeni görev: a\n",
            "Görevler başarıyla kaydedildi.\n",
            "\n",
            "✅ 'a' görevi eklendi.\n",
            "\n",
            "--- TO-DO LIST UYGULAMASI ---\n",
            "1. Görevleri Listele\n",
            "2. Yeni Görev Ekle\n",
            "3. Görev Düzenle\n",
            "4. Görev Sil\n",
            "5. Çıkış\n",
            "Seçiminiz (1-5): 5\n",
            "Programdan çıkılıyor...\n"
          ]
        }
      ]
    }
  ],
  "metadata": {
    "kernelspec": {
      "display_name": "base",
      "language": "python",
      "name": "python3"
    },
    "language_info": {
      "codemirror_mode": {
        "name": "ipython",
        "version": 3
      },
      "file_extension": ".py",
      "mimetype": "text/x-python",
      "name": "python",
      "nbconvert_exporter": "python",
      "pygments_lexer": "ipython3",
      "version": "3.12.4"
    },
    "colab": {
      "provenance": []
    }
  },
  "nbformat": 4,
  "nbformat_minor": 5
}